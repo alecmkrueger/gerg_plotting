{
  "cells": [
    {
      "cell_type": "markdown",
      "metadata": {},
      "source": [
        "\n# Quiver 1D Example\n\nExample description\n\n<img src=\"file://../examples/example_plots/quiver_1d_example.png\" alt=\"Pre-generated image for this example\">\n"
      ]
    },
    {
      "cell_type": "code",
      "execution_count": null,
      "metadata": {
        "collapsed": false
      },
      "outputs": [],
      "source": [
        "from gerg_plotting.plotting_classes import ScatterPlot\nfrom gerg_plotting.tools import data_from_df\nimport pandas as pd\n\n# Let's read in the example data\ndf = pd.read_csv('example_data/sample_tabs_data.csv')\n# Group by the depth\ngroups = [group for _,group in df.groupby('bin_depth')]\n# Init data from the first group\ndata = data_from_df(groups[0])\n\nscatter = ScatterPlot(data)\nscatter.quiver1d(x='time',quiver_scale=700)\nscatter.save('example_plots/quiver_1d_example.png')"
      ]
    }
  ],
  "metadata": {
    "kernelspec": {
      "display_name": "Python 3",
      "language": "python",
      "name": "python3"
    },
    "language_info": {
      "codemirror_mode": {
        "name": "ipython",
        "version": 3
      },
      "file_extension": ".py",
      "mimetype": "text/x-python",
      "name": "python",
      "nbconvert_exporter": "python",
      "pygments_lexer": "ipython3",
      "version": "3.12.8"
    }
  },
  "nbformat": 4,
  "nbformat_minor": 0
}