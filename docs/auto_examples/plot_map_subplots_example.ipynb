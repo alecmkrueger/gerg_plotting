{
  "cells": [
    {
      "cell_type": "markdown",
      "metadata": {},
      "source": [
        "\n# Map Subplots Example\n\nExample description\n\n<img src=\"file://../examples/example_plots/map_subplots_example.png\" alt=\"Pre-generated image for this example\">\n"
      ]
    },
    {
      "cell_type": "code",
      "execution_count": null,
      "metadata": {
        "collapsed": false
      },
      "outputs": [],
      "source": [
        "from gerg_plotting.plotting_classes import MapPlot\nfrom gerg_plotting.data_classes import Bounds,Variable\nfrom gerg_plotting.tools import data_from_df\nimport matplotlib.pyplot as plt\nimport cartopy.crs as ccrs\nimport pandas as pd\n\n# Define bounds\nbounds = Bounds(lat_min = 24,lat_max = 31,lon_min = -99,lon_max = -88,depth_top=-1,depth_bottom=500,vertical_scalar=1/1000,vertical_units='km')\n# Let's read in the example data\ndf = pd.read_csv('example_data/sample_glider_data.csv')\n# Select the top 5 meters of the data\ndf = df[df.pressure<5]\n# Init the data object with the bounds\ndata = data_from_df(df,bounds=bounds)\n# Add a custom variable\ndata.add_custom_variable(variable=Variable(data=df['Turner_angle'],name='Turner_angle',label='Turner Angle (\u00b0)'))\n\n# Init subplots\nfig,ax = plt.subplots(figsize=(10,24),nrows=6,subplot_kw={'projection': ccrs.PlateCarree()},layout='constrained')\npointsize = 25\n# Init MapPlot object\nplotter = MapPlot(data=data,grid_spacing=3)\n# Generate Scatter plots on one figure\nplotter.scatter(fig=fig,ax=ax[0],var='temperature',show_bathy=True,pointsize=pointsize)\nplotter.ax.set_title('Bathymetry on and Coastlines on')\nplotter.scatter(fig=fig,ax=ax[1],var='salinity',show_bathy=True,show_coastlines=False,pointsize=pointsize)\nplotter.ax.set_title('Bathymetry on and Coastlines off')\nplotter.scatter(fig=fig,ax=ax[2],var='depth',show_bathy=False,show_coastlines=True,pointsize=pointsize)\nplotter.ax.set_title('Bathymetry off and Coastlines on')\nplotter.scatter(fig=fig,ax=ax[3],var='density',show_bathy=False,show_coastlines=False,pointsize=pointsize)\nplotter.ax.set_title('Bathymetry off and Coastlines off')\nplotter.scatter(fig=fig,ax=ax[4],var='Turner_angle',show_bathy=False,show_coastlines=False,grid=False,pointsize=pointsize)\nplotter.ax.set_title('Bathymetry off, Coastlines off, and Grid off')\nplotter.scatter(fig=fig,ax=ax[5],var='time',show_bathy=False,show_coastlines=False,grid=False,show_coords=False,pointsize=pointsize)\nplotter.ax.set_title('Bathymetry off, Coastlines off, Grid off, Coordinates off')\n\n# Add a title\nplotter.fig.suptitle('Surface Layer Properties (0-5 Meters)',fontsize = 20)\n# If you want to show the plot\n# plotter.show()\nfig.savefig('example_plots/map_subplots_example.png',dpi=500,bbox_inches='tight')"
      ]
    }
  ],
  "metadata": {
    "kernelspec": {
      "display_name": "Python 3",
      "language": "python",
      "name": "python3"
    },
    "language_info": {
      "codemirror_mode": {
        "name": "ipython",
        "version": 3
      },
      "file_extension": ".py",
      "mimetype": "text/x-python",
      "name": "python",
      "nbconvert_exporter": "python",
      "pygments_lexer": "ipython3",
      "version": "3.12.8"
    }
  },
  "nbformat": 4,
  "nbformat_minor": 0
}