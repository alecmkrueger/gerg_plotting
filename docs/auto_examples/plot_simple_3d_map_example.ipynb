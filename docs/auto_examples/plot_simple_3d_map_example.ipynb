{
  "cells": [
    {
      "cell_type": "markdown",
      "metadata": {},
      "source": [
        "\n# Simple 3D Map Example\n\nExample description\n\n<img src=\"file://../examples/example_plots/simple_3d_map_example.png\" alt=\"Pre-generated image for this example\">\n"
      ]
    },
    {
      "cell_type": "code",
      "execution_count": null,
      "metadata": {
        "collapsed": false
      },
      "outputs": [],
      "source": [
        "from gerg_plotting.plotting_classes import ScatterPlot3D\nfrom gerg_plotting.tools import data_from_csv\n\n# Let's read in the example data\ndata = data_from_csv('example_data/sample_glider_data.csv')\n\n# Let's plot the 3d data\nscatter = ScatterPlot3D(data)\nscatter.map(var='temperature',vertical_scalar=-1000,bounds_padding=0.3,show=False)\nscatter.save('example_plots/simple_3d_map_example.png')\n# scatter.show()"
      ]
    }
  ],
  "metadata": {
    "kernelspec": {
      "display_name": "Python 3",
      "language": "python",
      "name": "python3"
    },
    "language_info": {
      "codemirror_mode": {
        "name": "ipython",
        "version": 3
      },
      "file_extension": ".py",
      "mimetype": "text/x-python",
      "name": "python",
      "nbconvert_exporter": "python",
      "pygments_lexer": "ipython3",
      "version": "3.12.8"
    }
  },
  "nbformat": 4,
  "nbformat_minor": 0
}