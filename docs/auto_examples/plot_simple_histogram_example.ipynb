{
  "cells": [
    {
      "cell_type": "markdown",
      "metadata": {},
      "source": [
        "\n# Simple Histogram Example\n\nExample description\n\n<img src=\"file://../examples/example_plots/simple_histogram_example.png\" alt=\"Pre-generated image for this example\">\n"
      ]
    },
    {
      "cell_type": "code",
      "execution_count": null,
      "metadata": {
        "collapsed": false
      },
      "outputs": [],
      "source": [
        "from gerg_plotting.plotting_classes import Histogram\nfrom gerg_plotting.data_classes import Data\nimport numpy as np\n\n# If you just want to look at the histogram:\ndata = Data(temperature=np.random.normal(28,size=1000))\n\nHistogram(data).plot(var='temperature')\n\n# If you want to save the histogram figure:\ndata = Data(temperature=np.random.normal(28,size=1000))\n\nhist = Histogram(data)  # Assign the histogram plotter to a variable\nhist.plot(var='temperature')\n\nhist.fig.savefig('example_plots/simple_histogram_example.png')  # Get the fig attribute from hist then the savefig method to save it"
      ]
    }
  ],
  "metadata": {
    "kernelspec": {
      "display_name": "Python 3",
      "language": "python",
      "name": "python3"
    },
    "language_info": {
      "codemirror_mode": {
        "name": "ipython",
        "version": 3
      },
      "file_extension": ".py",
      "mimetype": "text/x-python",
      "name": "python",
      "nbconvert_exporter": "python",
      "pygments_lexer": "ipython3",
      "version": "3.12.8"
    }
  },
  "nbformat": 4,
  "nbformat_minor": 0
}