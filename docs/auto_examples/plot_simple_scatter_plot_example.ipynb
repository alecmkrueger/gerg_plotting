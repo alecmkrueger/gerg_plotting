{
  "cells": [
    {
      "cell_type": "markdown",
      "metadata": {},
      "source": [
        "\n# Simple Scatter Plot Example\n\nExample description\n\n<img src=\"file://../examples/example_plots/simple_scatter_plot_example.png\" alt=\"Pre-generated image for this example\">\n"
      ]
    },
    {
      "cell_type": "code",
      "execution_count": null,
      "metadata": {
        "collapsed": false
      },
      "outputs": [],
      "source": [
        "from gerg_plotting.plotting_classes import ScatterPlot\nfrom gerg_plotting.tools import data_from_csv\n\n# Let's read in the example data\ndata = data_from_csv('example_data/sample_glider_data.csv')\n\nscatter = ScatterPlot(data)\nscatter.scatter('time','temperature')\nscatter.save('example_plots/simple_scatter_plot_example.png')"
      ]
    }
  ],
  "metadata": {
    "kernelspec": {
      "display_name": "Python 3",
      "language": "python",
      "name": "python3"
    },
    "language_info": {
      "codemirror_mode": {
        "name": "ipython",
        "version": 3
      },
      "file_extension": ".py",
      "mimetype": "text/x-python",
      "name": "python",
      "nbconvert_exporter": "python",
      "pygments_lexer": "ipython3",
      "version": "3.12.8"
    }
  },
  "nbformat": 4,
  "nbformat_minor": 0
}