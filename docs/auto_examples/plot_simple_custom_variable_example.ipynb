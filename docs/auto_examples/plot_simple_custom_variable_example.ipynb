{
  "cells": [
    {
      "cell_type": "markdown",
      "metadata": {},
      "source": [
        "\n# Simple Custom Variable Example\n\nExample description\n\n<img src=\"file://../examples/example_plots/simple_custom_variable_example.png\" alt=\"Pre-generated image for this example\">\n"
      ]
    },
    {
      "cell_type": "code",
      "execution_count": null,
      "metadata": {
        "collapsed": false
      },
      "outputs": [],
      "source": [
        "from gerg_plotting.data_classes import Data,Variable\nfrom gerg_plotting.plotting_classes import Histogram\nimport numpy as np\n\n# Init Data object\ndata = Data()\n# Init pH Variable object\npH = Variable(data=np.random.normal(7.7,scale=0.25,size=1000),name='pH')\n# Add the pH Variable object to the Data object\ndata.add_custom_variable(pH)\n# Test by plotting a histogram\nhist = Histogram(data)\nhist.plot('pH')\nhist.save('example_plots/simple_custom_variable_example.png')"
      ]
    }
  ],
  "metadata": {
    "kernelspec": {
      "display_name": "Python 3",
      "language": "python",
      "name": "python3"
    },
    "language_info": {
      "codemirror_mode": {
        "name": "ipython",
        "version": 3
      },
      "file_extension": ".py",
      "mimetype": "text/x-python",
      "name": "python",
      "nbconvert_exporter": "python",
      "pygments_lexer": "ipython3",
      "version": "3.12.8"
    }
  },
  "nbformat": 4,
  "nbformat_minor": 0
}