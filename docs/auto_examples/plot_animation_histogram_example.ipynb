{
  "cells": [
    {
      "cell_type": "markdown",
      "metadata": {},
      "source": [
        "\n# Animation Histogram Example\n\nExample description\n\n<img src=\"file://../examples/example_plots/animation_histogram_example.gif\" alt=\"GIF of a normal distribution with increasing sample size\">\n"
      ]
    },
    {
      "cell_type": "code",
      "execution_count": null,
      "metadata": {
        "collapsed": false
      },
      "outputs": [],
      "source": [
        "from gerg_plotting.data_classes import Data\nfrom gerg_plotting.plotting_classes import Histogram, Animator\nimport cmocean\nimport numpy as np\nimport matplotlib.pyplot as plt\nfrom pathlib import Path\n\n# Let's make some example data\nn_points = 10000\ndata = Data(temperature=np.random.normal(28,size=n_points))\n\n# Let's create a histogram function to plot the data how we would like\ndef make_hists(sample,color):\n    '''Plot Histogram based on sample size and color'''\n    data_sample = data[:10*sample+1]  # Slice data\n    hist = Histogram(data_sample)  # Init histogram plotter\n    hist.plot('temperature',color=color,bins=30,range=(25,31))  # Plot 1-d histogram\n    hist.ax.set_ybound(upper=80)  # Set the ybounds maximum to 80 for a clearer plot\n    return hist.fig\n\nsamples = np.arange(90)\ncmap = plt.get_cmap('Greens')\ncmap = cmocean.tools.crop_by_percent(cmap,30,which='both')\ncolors = [cmap((idx*2)+10) for idx in samples]\n\ngif_filename = Path('example_plots/animation_histogram_example.gif')\nAnimator().animate(plotting_function=make_hists,param_dict={'sample':samples,'color':colors},fps=12,gif_filename=gif_filename)"
      ]
    }
  ],
  "metadata": {
    "kernelspec": {
      "display_name": "Python 3",
      "language": "python",
      "name": "python3"
    },
    "language_info": {
      "codemirror_mode": {
        "name": "ipython",
        "version": 3
      },
      "file_extension": ".py",
      "mimetype": "text/x-python",
      "name": "python",
      "nbconvert_exporter": "python",
      "pygments_lexer": "ipython3",
      "version": "3.12.8"
    }
  },
  "nbformat": 4,
  "nbformat_minor": 0
}