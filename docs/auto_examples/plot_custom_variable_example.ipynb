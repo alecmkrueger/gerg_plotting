{
  "cells": [
    {
      "cell_type": "markdown",
      "metadata": {},
      "source": [
        "\n# Custom Variable Example\n\nExample description\n"
      ]
    },
    {
      "cell_type": "code",
      "execution_count": null,
      "metadata": {
        "collapsed": false
      },
      "outputs": [],
      "source": [
        "from gerg_plotting.plotting_classes import Histogram\nfrom gerg_plotting.data_classes import Variable\nfrom gerg_plotting.tools import data_from_df\nfrom gerg_plotting.modules.plotting import get_turner_cmap\nimport pandas as pd\nfrom pathlib import Path\n\n# Let's read in the example data\ndf = pd.read_csv('example_data/sample_glider_data.csv')\n\n# Let's initilize the data object\ndata = data_from_df(df)\n\ncmap = get_turner_cmap()\n\n# Init Turner_angle Variable object\nTurner_angle = Variable(data=df['Turner_angle'],name='Turner_angle',cmap=cmap,units='m/s',vmin=-90,vmax=90)\n# Add the Turner_angle Variable object to the Data object\ndata.add_custom_variable(Turner_angle)\n# Test by plotting a histogram\nhist = Histogram(data)\nhist.plot(var='Turner_angle')\nhist.save('example_plots/custom_variable_example.png')"
      ]
    }
  ],
  "metadata": {
    "kernelspec": {
      "display_name": "Python 3",
      "language": "python",
      "name": "python3"
    },
    "language_info": {
      "codemirror_mode": {
        "name": "ipython",
        "version": 3
      },
      "file_extension": ".py",
      "mimetype": "text/x-python",
      "name": "python",
      "nbconvert_exporter": "python",
      "pygments_lexer": "ipython3",
      "version": "3.12.8"
    }
  },
  "nbformat": 4,
  "nbformat_minor": 0
}