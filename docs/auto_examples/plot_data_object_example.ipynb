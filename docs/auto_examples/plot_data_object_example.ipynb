{
  "cells": [
    {
      "cell_type": "markdown",
      "metadata": {},
      "source": [
        "\n# Data Object Example\n\nExample description\n\n<img src=\"file://../examples/example_plots/data_object_example.png\" alt=\"Pre-generated image for this example\">\n"
      ]
    },
    {
      "cell_type": "code",
      "execution_count": null,
      "metadata": {
        "collapsed": false
      },
      "outputs": [],
      "source": [
        "from gerg_plotting.data_classes import Data, Variable\nfrom gerg_plotting.tools import data_from_csv\nimport pandas as pd\nimport cmocean\n\n\n# Load data from CSV file\ndf = pd.read_csv('example_data/sample_glider_data.csv')\n\n# Method 1: Directly from CSV file (Easiest method)\ndata = data_from_csv('example_data/sample_glider_data.csv')\nprint(\"1. Created data object from CSV file\")\n\n# Method 2: Create variables first, then make data object (Most control)\n# Create temperature variable with specific settings\ntemperature = Variable(\n    name='temperature',\n    data=data['temperature'].data,\n    units='\u00b0C',\n    cmap=cmocean.cm.thermal,  # Color scheme for plotting\n    vmin=-10,  # Minimum value for color scale\n    vmax=40    # Maximum value for color scale\n)\n\n# Create salinity variable with specific settings\nsalinity = Variable(\n    name='salinity',\n    data=data['salinity'].data,\n    units='PSU',\n    cmap=cmocean.cm.haline,  # Special color scheme for salinity\n    vmin=28,\n    vmax=40\n)\n\n# Create new data object with our custom variables\ncustom_data = Data(\n    temperature=temperature,\n    salinity=salinity\n)\nprint(\"2. Created data object with custom variables\")\n\n# Method 3: Add variables to existing data object\n# Create a new variable for Turner angle\nTurner_angle = Variable(\n    name='Turner_angle',\n    data=df['Turner_angle'],\n    units='degrees',\n)\n\n# Add the new variable to our data object\ncustom_data.add_custom_variable(Turner_angle)\nprint(\"3. Added custom variable to existing data object\")\n\n# Make a simple plot to show our data\nfrom gerg_plotting.plotting_classes.histogram import Histogram\nplot = Histogram(custom_data)\nplot.plot('temperature')\nplot.save('example_plots/data_object_example.png')\nprint(\"Created example plot: simple_temperature_histogram.png\")"
      ]
    }
  ],
  "metadata": {
    "kernelspec": {
      "display_name": "Python 3",
      "language": "python",
      "name": "python3"
    },
    "language_info": {
      "codemirror_mode": {
        "name": "ipython",
        "version": 3
      },
      "file_extension": ".py",
      "mimetype": "text/x-python",
      "name": "python",
      "nbconvert_exporter": "python",
      "pygments_lexer": "ipython3",
      "version": "3.12.8"
    }
  },
  "nbformat": 4,
  "nbformat_minor": 0
}