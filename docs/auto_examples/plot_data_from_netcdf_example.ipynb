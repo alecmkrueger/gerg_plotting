{
  "cells": [
    {
      "cell_type": "markdown",
      "metadata": {},
      "source": [
        "\n# Data From Netcdf Example\n\nHow to use the data_from_netcdf function to load data from a netcdf file.\nWe also plot a hovmoller plot of chlorophyll \n\n<img src=\"file://../examples/example_plots/data_from_netcdf_example.png\" alt=\"Pre-generated image for this example\">\n"
      ]
    },
    {
      "cell_type": "code",
      "execution_count": null,
      "metadata": {
        "collapsed": false
      },
      "outputs": [],
      "source": [
        "from gerg_plotting.tools import data_from_netcdf\nfrom gerg_plotting.plotting_classes import ScatterPlot\n\n\ndata = data_from_netcdf(\"example_data/sample_glider_data.nc\",\n                        interp_glider=True)\n    \nscatter = ScatterPlot(data)\nscatter.hovmoller('chlor')\nscatter.save('example_plots/data_from_netcdf_example.png')"
      ]
    }
  ],
  "metadata": {
    "kernelspec": {
      "display_name": "Python 3",
      "language": "python",
      "name": "python3"
    },
    "language_info": {
      "codemirror_mode": {
        "name": "ipython",
        "version": 3
      },
      "file_extension": ".py",
      "mimetype": "text/x-python",
      "name": "python",
      "nbconvert_exporter": "python",
      "pygments_lexer": "ipython3",
      "version": "3.12.8"
    }
  },
  "nbformat": 4,
  "nbformat_minor": 0
}