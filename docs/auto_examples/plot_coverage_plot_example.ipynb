{
  "cells": [
    {
      "cell_type": "markdown",
      "metadata": {},
      "source": [
        "\n# Coverage Plot Example\n\nExample description\n\n<img src=\"file://../examples/example_plots/coverage_plot_example.png\" alt=\"Pre-generated image for this example\">\n"
      ]
    },
    {
      "cell_type": "code",
      "execution_count": null,
      "metadata": {
        "collapsed": false
      },
      "outputs": [],
      "source": [
        "from gerg_plotting.plotting_classes import CoveragePlot\nfrom gerg_plotting.tools import custom_legend_handles\n\nimport matplotlib.pyplot as plt\n\ncmap = plt.get_cmap('tab20')\ndomains = ['Regional_Local', 'All', 'Local', 'Basin_Regional', 'Basin_Local', 'Basin', 'Regional']\ncolors_light = [cmap(15),cmap(5),cmap(3),cmap(1),'yellow','pink','gold']\n\ncolors = colors_light\ndomain_colors = {key:value for key,value in zip(domains,colors)}\n\nhatch_styles = ['/', '\\\\', '|', '-', 'o', 'O', '.', '*',\n                '//', '\\\\\\\\', '||', '--', '++', 'xx', 'oo', 'OO', '..', '**', '/o', \n                '\\\\|', '|*', '-\\\\', '+o', 'x*', 'o-', 'O|', 'O.', '*-']\n\ndomain_hatches = {key:value for key,value in zip(domains,hatch_styles)}\n# Define the x and y labels\nxlabels = ['Seconds','Minutes','Hours','Days','Weeks','Months','Years','Decades']\nylabels = ['Surface','10-100\\nMeters','100-500\\nMeters','Below 500\\nMeters','Benthic']\n\n# Define the default plotting parameters\nplotting_kwargs = {'arrow_facecolor':'hatch_color','body_color':'none','label_fontsize':9,'label_background_pad':0.75,\n                'label_background_color':'hatch_color','arrow_linewidth':0.75,'hatch_linewidth':4,'outline_linewidth':1.25,\n                'show_arrows':False}\n\n# Init the coverage plotter\nplotter = CoveragePlot(figsize=(12,6),xlabels=xlabels,ylabels=ylabels,plotting_kwargs=plotting_kwargs)\n# All Depths\nplotter.add_coverage(['Hours','Decades'],['Surface','Benthic'],label='Agency',label_position=(4,3.3),hatch_color=domain_colors['All'],hatch=domain_hatches['All'])\nplotter.add_coverage(['Seconds','Decades'],['Surface','Benthic'],label='Academic',label_position=(3.5,2),hatch_color=domain_colors['All'],hatch=domain_hatches['All'])\nplotter.add_coverage(['Days','Months'],['Surface','Benthic'],label='Marine Services',label_position=(4.5,1.7),hatch_color=domain_colors['Regional_Local'],hatch=domain_hatches['Regional_Local'])\nplotter.add_coverage(['Days','Years'],['Surface','Benthic'],label='Regulatory',label_position=(4.5,2.3),hatch_color=domain_colors['Regional_Local'],hatch=domain_hatches['Regional_Local'])\nplotter.add_coverage(['Days','Decades'],['Surface','Benthic'],label='Oil and Gas',label_position=(4.5,3),hatch_color=domain_colors['All'],hatch=domain_hatches['All'])\nplotter.add_coverage(['Months','Years'],['Surface','Benthic'],label='Fisheries',label_position=(6,2.75),hatch_color=domain_colors['Regional_Local'],hatch=domain_hatches['Regional_Local'])\nplotter.add_coverage(['Hours','Weeks'],['Surface','Benthic'],label='Disaster',label_position=(4,2.75),hatch_color=domain_colors['All'],hatch=domain_hatches['All'])\n# Surface\nplotter.add_coverage(['Hours','Days'],[-0.5,-0.5],label='Search and Rescue',hatch_color=domain_colors['Local'],hatch=domain_hatches['Local'])\nplotter.add_coverage(['Days','Decades'],[0.25,0.25],label='Wind and Algal Blooms',hatch_color=domain_colors['Local'],hatch=domain_hatches['Local'])\n# 10-100m\nplotter.add_coverage(['Months','Decades'],['Surface','100-500 Meters'],label='CCUS',label_position=(6,0.775),hatch_color=domain_colors['Local'],hatch=domain_hatches['Local'])\nplotter.add_coverage(['Hours','Weeks'],[0.65,0.65],label='Hurricane Forcasting',hatch_color=domain_colors['All'],hatch=domain_hatches['All'])\nplotter.add_coverage(['Days','Years'],[1,1],label='Hypoxia',hatch_color=domain_colors['Regional_Local'],hatch=domain_hatches['Regional_Local'])\n\nplotter.add_coverage('Decades',['Surface','Benthic'],label='Climate\\nScience',label_position=(7.5,1.7),hatch_color=domain_colors['Basin_Regional'],hatch=domain_hatches['Basin_Regional'])\nplotter.add_coverage(['Weeks','Months'],[-0.5,-0.5],label='Shipping',hatch_color=domain_colors['Basin'],hatch=domain_hatches['Basin'])\nplotter.add_coverage(['Days','Years'],[-0.15,-0.15],label='Recreational',label_position=(4.5,-0.025),hatch_color=domain_colors['Basin'],hatch=domain_hatches['Basin'])\n\nplotter.plot(show_grid=False)\n\nhandles = custom_legend_handles(domain_colors.keys(),domain_colors.values(),hatches=domain_hatches.values(),color_hatch_not_background=True)\nplotter.fig.legend(handles=handles,bbox_to_anchor=(0.254, 0.46),framealpha=1,title='Domains',handleheight=2, handlelength=3)\n\nplotter.fig.tight_layout()\n\nplotter.fig.savefig('example_plots/coverage_plot_example.png',dpi=600)"
      ]
    }
  ],
  "metadata": {
    "kernelspec": {
      "display_name": "Python 3",
      "language": "python",
      "name": "python3"
    },
    "language_info": {
      "codemirror_mode": {
        "name": "ipython",
        "version": 3
      },
      "file_extension": ".py",
      "mimetype": "text/x-python",
      "name": "python",
      "nbconvert_exporter": "python",
      "pygments_lexer": "ipython3",
      "version": "3.12.8"
    }
  },
  "nbformat": 4,
  "nbformat_minor": 0
}