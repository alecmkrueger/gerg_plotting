{
  "cells": [
    {
      "cell_type": "markdown",
      "metadata": {},
      "source": [
        "\n# Quiver 2D Example\n\nExample description\n\n<img src=\"file://../examples/example_plots/quiver_2d_example.png\" alt=\"Pre-generated image for this example\">\n"
      ]
    },
    {
      "cell_type": "code",
      "execution_count": null,
      "metadata": {
        "collapsed": false
      },
      "outputs": [],
      "source": [
        "from gerg_plotting.plotting_classes import ScatterPlot\nfrom gerg_plotting.tools import data_from_csv\n\ndata = data_from_csv('example_data/sample_tabs_data.csv')\n\ndata.calculate_speed()\n\ndata.speed.units = 'cm/s'\n\nscatter = ScatterPlot(data)\nscatter.quiver2d(x='time',y='depth',quiver_scale=800)\nscatter.ax.invert_yaxis()\nscatter.save('example_plots/quiver_2d_example.png')\n# If you want to show the plot\n# scatter.show()"
      ]
    }
  ],
  "metadata": {
    "kernelspec": {
      "display_name": "Python 3",
      "language": "python",
      "name": "python3"
    },
    "language_info": {
      "codemirror_mode": {
        "name": "ipython",
        "version": 3
      },
      "file_extension": ".py",
      "mimetype": "text/x-python",
      "name": "python",
      "nbconvert_exporter": "python",
      "pygments_lexer": "ipython3",
      "version": "3.12.8"
    }
  },
  "nbformat": 4,
  "nbformat_minor": 0
}