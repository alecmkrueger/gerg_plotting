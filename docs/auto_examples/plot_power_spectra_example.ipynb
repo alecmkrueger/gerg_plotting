{
  "cells": [
    {
      "cell_type": "markdown",
      "metadata": {},
      "source": [
        "\n# Power Spectra Example\n\nExample description\n\n<img src=\"file://../examples/example_plots/power_spectra_example.gif\" alt=\"Pre-generated image for this example\">\n"
      ]
    },
    {
      "cell_type": "code",
      "execution_count": null,
      "metadata": {
        "collapsed": false
      },
      "outputs": [],
      "source": [
        "from gerg_plotting.plotting_classes import ScatterPlot\nfrom gerg_plotting.tools import data_from_df\nimport pandas as pd\nimport matplotlib.pyplot as plt\nimport numpy as np\n\n# Let's read in the example data\ndf = pd.read_csv('example_data/sample_tabs_data.csv')\n\n# Init some base parameters\nsamp_freq = 48\nseg_len = 256\ntheta_rad = np.deg2rad(55)\nhighlight_freqs = [1/10, 1, 2]\ny_limits = (10,10e5)\n\n# In this first example we will let the power_spectra_density function calculate the PSD for us,\n# we just need to supply a few parameters to the calculation\n\n# Init data\ndata = data_from_df(df)\n# Init ScatterPlot\nscatter = ScatterPlot(data)\n# Plot power spectra density\nscatter.power_spectra_density(var_name='u',sampling_freq=samp_freq,segment_length=seg_len,theta_rad=theta_rad,\n                                highlight_freqs=highlight_freqs)\n# Set the ylimits so the plots all match up\nscatter.ax.set_ylim(*y_limits)\n# Add an informative title\nscatter.ax.set_title('Vector U')\n# scatter.show()\n\n# Now Let's look at a more advanced use\n\n# Import the Animator class\nfrom gerg_plotting import Animator\n\n# first we need to create a function that will return the figure\ndef power_spectra_plot(group):\n    '''\n    Plot the power spectra of vectors u, v, and w\n    '''\n    data = data_from_df(group)\n\n    # We can calcluate the PSD using the calcluate_PSD method in the Data object\n    psd_freq,psd_u,psd_v,psd_w = data.calcluate_PSD(sampling_freq=samp_freq,segment_length=seg_len,theta_rad=theta_rad)\n    \n    # Init the subplots\n    fig,axes = plt.subplots(nrows=3,figsize=(10,18),layout='constrained')\n\n    # Init the ScatterPlot\n    scatter = ScatterPlot(data)\n    # Plot the PSD for each vector and set their ylimits\n    scatter.power_spectra_density(psd_freq=psd_freq,psd=psd_u,highlight_freqs=highlight_freqs,fig=fig,ax=axes[0])\n    scatter.ax.set_title('Vector U')\n    scatter.ax.set_ylim(*y_limits)\n    scatter.power_spectra_density(psd_freq=psd_freq,psd=psd_v,highlight_freqs=highlight_freqs,fig=fig,ax=axes[1])\n    scatter.ax.set_title('Vector V')\n    scatter.ax.set_ylim(*y_limits)\n    scatter.power_spectra_density(psd_freq=psd_freq,psd=psd_w,highlight_freqs=highlight_freqs,fig=fig,ax=axes[2])\n    scatter.ax.set_title('Vector W')\n    scatter.ax.set_ylim(*y_limits)\n    # Add informative figure title\n    scatter.fig.suptitle(f'Auto-spectra at Bin Depth: {group['bin_depth'].min()} m',fontsize=22)\n    return scatter.fig\n\n# Extract groups by bin_depth\ngroups = [group for _,group in df.groupby('bin_depth')]\n\n# Create an animation of the power spectra along depth\nAnimator().animate(plotting_function=power_spectra_plot,param_dict={'group':groups},gif_filename='example_plots/power_spectra_example.gif',fps=0.75)"
      ]
    }
  ],
  "metadata": {
    "kernelspec": {
      "display_name": "Python 3",
      "language": "python",
      "name": "python3"
    },
    "language_info": {
      "codemirror_mode": {
        "name": "ipython",
        "version": 3
      },
      "file_extension": ".py",
      "mimetype": "text/x-python",
      "name": "python",
      "nbconvert_exporter": "python",
      "pygments_lexer": "ipython3",
      "version": "3.12.8"
    }
  },
  "nbformat": 4,
  "nbformat_minor": 0
}